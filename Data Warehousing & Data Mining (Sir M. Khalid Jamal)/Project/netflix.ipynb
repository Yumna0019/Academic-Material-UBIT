{
 "cells": [
  {
   "cell_type": "code",
   "execution_count": 6,
   "id": "e9c30c17",
   "metadata": {},
   "outputs": [
    {
     "ename": "ModuleNotFoundError",
     "evalue": "No module named 'pandas'",
     "output_type": "error",
     "traceback": [
      "\u001b[1;31m---------------------------------------------------------------------------\u001b[0m",
      "\u001b[1;31mModuleNotFoundError\u001b[0m                       Traceback (most recent call last)",
      "Cell \u001b[1;32mIn[6], line 1\u001b[0m\n\u001b[1;32m----> 1\u001b[0m \u001b[38;5;28;01mimport\u001b[39;00m\u001b[38;5;250m \u001b[39m\u001b[38;5;21;01mpandas\u001b[39;00m\u001b[38;5;250m \u001b[39m\u001b[38;5;28;01mas\u001b[39;00m\u001b[38;5;250m \u001b[39m\u001b[38;5;21;01mpd\u001b[39;00m\n\u001b[0;32m      2\u001b[0m \u001b[38;5;28;01mimport\u001b[39;00m\u001b[38;5;250m \u001b[39m\u001b[38;5;21;01mnumpy\u001b[39;00m\u001b[38;5;250m \u001b[39m\u001b[38;5;28;01mas\u001b[39;00m\u001b[38;5;250m \u001b[39m\u001b[38;5;21;01mnp\u001b[39;00m\n\u001b[0;32m      4\u001b[0m \u001b[38;5;66;03m# Step 1: Load the uploaded dataset\u001b[39;00m\n",
      "\u001b[1;31mModuleNotFoundError\u001b[0m: No module named 'pandas'"
     ]
    }
   ],
   "source": [
    "import pandas as pd\n",
    "import numpy as np\n",
    "\n",
    "# Step 1: Load the uploaded dataset\n",
    "df = pd.read_csv('netflix_titles.csv')\n",
    "print(\"✅ Dataset loaded successfully!\")\n",
    "\n",
    "# Step 2: Clean the data\n",
    "df.drop_duplicates(inplace=True)\n",
    "df['director'].fillna('Unknown', inplace=True)\n",
    "df['cast'].fillna('Not Available', inplace=True)\n",
    "df['country'].fillna('Unknown', inplace=True)\n",
    "df.dropna(subset=['date_added', 'rating'], inplace=True)\n",
    "\n",
    "# Step 3: Transform the data\n",
    "df['date_added'] = pd.to_datetime(df['date_added'], errors='coerce')\n",
    "df['added_year'] = df['date_added'].dt.year\n",
    "df['added_month'] = df['date_added'].dt.month\n",
    "df['content_length'] = np.where(\n",
    "    df['type'] == 'Movie',\n",
    "    np.random.randint(60, 180, size=len(df)),\n",
    "    np.random.randint(1, 5, size=len(df))\n",
    ")\n",
    "df = df[df['release_year'] > 2015]\n",
    "\n",
    "# Final output\n",
    "print(\"\\n✅ Cleaned & Transformed Data:\")\n",
    "print(df.head())\n",
    "print(\"\\nFinal shape:\", df.shape)\n"
   ]
  },
  {
   "cell_type": "code",
   "execution_count": null,
   "id": "1486b504",
   "metadata": {},
   "outputs": [],
   "source": [
    "fact_netflix_content = df[['show_id', 'release_year', 'added_year', 'added_month', 'content_length']].copy()\n",
    "print(\"✅ Fact table created:\")\n",
    "print(fact_netflix_content.head())"
   ]
  },
  {
   "cell_type": "code",
   "execution_count": null,
   "id": "c7d65ae7",
   "metadata": {},
   "outputs": [],
   "source": [
    "dim_title = df[['show_id', 'title', 'type']].drop_duplicates().copy()\n",
    "print(\"\\n🎬 Title Dimension:\")\n",
    "print(dim_title.head())\n",
    "dim_director = df[['show_id', 'director']].drop_duplicates().copy()\n",
    "print(\"\\n🎬 Director Dimension:\")\n",
    "print(dim_director.head())\n",
    "dim_cast = df[['show_id', 'cast']].drop_duplicates().copy()\n",
    "print(\"\\n👥 Cast Dimension:\")\n",
    "print(dim_cast.head())\n",
    "dim_country = df[['show_id', 'country']].drop_duplicates().copy()\n",
    "print(\"\\n🌍 Country Dimension:\")\n",
    "print(dim_country.head())\n",
    "dim_rating = df[['show_id', 'rating']].drop_duplicates().copy()\n",
    "print(\"\\n⭐ Rating Dimension:\")\n",
    "print(dim_rating.head())\n",
    "dim_genre = df[['show_id', 'listed_in']].drop_duplicates().copy()\n",
    "print(\"\\n📚 Genre Dimension:\")\n",
    "print(dim_genre.head())\n"
   ]
  }
 ],
 "metadata": {
  "kernelspec": {
   "display_name": "Python 3",
   "language": "python",
   "name": "python3"
  },
  "language_info": {
   "codemirror_mode": {
    "name": "ipython",
    "version": 3
   },
   "file_extension": ".py",
   "mimetype": "text/x-python",
   "name": "python",
   "nbconvert_exporter": "python",
   "pygments_lexer": "ipython3",
   "version": "3.10.2"
  }
 },
 "nbformat": 4,
 "nbformat_minor": 5
}
